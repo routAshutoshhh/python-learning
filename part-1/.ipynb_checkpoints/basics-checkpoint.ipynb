{
 "cells": [
  {
   "cell_type": "raw",
   "id": "588eb2c0-8651-4637-a709-347060fd2490",
   "metadata": {},
   "source": [
    "## this is my learning in python  and understanding the usage fo the juypiter notebook"
   ]
  },
  {
   "cell_type": "code",
   "execution_count": 2,
   "id": "a09cb289-5824-4172-9328-56d352ac9bed",
   "metadata": {},
   "outputs": [
    {
     "data": {
      "text/plain": [
       "3"
      ]
     },
     "execution_count": 2,
     "metadata": {},
     "output_type": "execute_result"
    }
   ],
   "source": [
    "1+2"
   ]
  },
  {
   "cell_type": "code",
   "execution_count": 4,
   "id": "16cbe995-16a3-418e-8236-617b2a231340",
   "metadata": {},
   "outputs": [
    {
     "name": "stdout",
     "output_type": "stream",
     "text": [
      "67\n"
     ]
    }
   ],
   "source": [
    "print(67)"
   ]
  },
  {
   "cell_type": "code",
   "execution_count": 6,
   "id": "1d45ea31-2901-481d-b638-2b30f3ee7af1",
   "metadata": {},
   "outputs": [
    {
     "name": "stdout",
     "output_type": "stream",
     "text": [
      "welcome to my channel\n"
     ]
    }
   ],
   "source": [
    "print (\"welcome to my channel\")"
   ]
  },
  {
   "cell_type": "code",
   "execution_count": 12,
   "id": "27796089-da43-4878-ac04-abf70283eb0d",
   "metadata": {},
   "outputs": [
    {
     "name": "stdout",
     "output_type": "stream",
     "text": [
      "78\n"
     ]
    }
   ],
   "source": [
    "#single line comments\n",
    "\n",
    "'''\n",
    "multi line comment\n",
    "'''\n",
    "print(78)\n"
   ]
  },
  {
   "cell_type": "code",
   "execution_count": 22,
   "id": "5661b22c-628c-47de-b832-8226d845d1ee",
   "metadata": {},
   "outputs": [
    {
     "name": "stdout",
     "output_type": "stream",
     "text": [
      "helllol world\n",
      "<class 'str'>\n"
     ]
    }
   ],
   "source": [
    "# variable declaration\n",
    "a = 890\n",
    "b = \"helllol world\"\n",
    "print(b)\n",
    "print(type(b))\n",
    "'''\n",
    "the avriable should not start with numnber = 1a \n",
    "you cannot  do int = 1\n",
    "'''\n"
   ]
  },
  {
   "cell_type": "code",
   "execution_count": 24,
   "id": "cc8cf80e-0636-4cd1-b43f-a8199a9e8bad",
   "metadata": {},
   "outputs": [
    {
     "ename": "TypeError",
     "evalue": "unsupported operand type(s) for +: 'int' and 'str'",
     "output_type": "error",
     "traceback": [
      "\u001b[1;31m---------------------------------------------------------------------------\u001b[0m",
      "\u001b[1;31mTypeError\u001b[0m                                 Traceback (most recent call last)",
      "Cell \u001b[1;32mIn[24], line 3\u001b[0m\n\u001b[0;32m      1\u001b[0m a\u001b[38;5;241m=\u001b[39m\u001b[38;5;241m10\u001b[39m\n\u001b[0;32m      2\u001b[0m b\u001b[38;5;241m=\u001b[39m\u001b[38;5;124m\"\u001b[39m\u001b[38;5;124mhello\u001b[39m\u001b[38;5;124m\"\u001b[39m\n\u001b[1;32m----> 3\u001b[0m \u001b[38;5;28mprint\u001b[39m(a\u001b[38;5;241m+\u001b[39mb)\n",
      "\u001b[1;31mTypeError\u001b[0m: unsupported operand type(s) for +: 'int' and 'str'"
     ]
    }
   ],
   "source": [
    "a=10\n",
    "b=\"hello\"\n",
    "print(a+b)\n",
    "## this will give error for unsupported operand types\n"
   ]
  },
  {
   "cell_type": "code",
   "execution_count": 28,
   "id": "fabacbba-9899-4b59-b759-be6819af11d2",
   "metadata": {},
   "outputs": [
    {
     "name": "stdout",
     "output_type": "stream",
     "text": [
      " hello world\n"
     ]
    }
   ],
   "source": [
    "#string concatanation\n",
    "a = \" hello \"\n",
    "print (a + \"world\")"
   ]
  },
  {
   "cell_type": "code",
   "execution_count": 30,
   "id": "9823af3c-db5f-47f4-8b76-f989c7e13dcd",
   "metadata": {},
   "outputs": [
    {
     "name": "stdout",
     "output_type": "stream",
     "text": [
      "hello 24\n"
     ]
    }
   ],
   "source": [
    "## typecasting example \n",
    "a = \"hello \"\n",
    "print (a + str(24))\n"
   ]
  },
  {
   "cell_type": "code",
   "execution_count": 34,
   "id": "88293881-d152-4ed4-8e01-938544b28e5b",
   "metadata": {},
   "outputs": [
    {
     "name": "stdout",
     "output_type": "stream",
     "text": [
      "10\n",
      "hero\n"
     ]
    }
   ],
   "source": [
    "#dynamic typing\n",
    "a= 10\n",
    "print(a)\n",
    "a= \"hero\"\n",
    "print(a)"
   ]
  },
  {
   "cell_type": "code",
   "execution_count": null,
   "id": "55007a92-e872-4e22-8c52-396d29994107",
   "metadata": {},
   "outputs": [],
   "source": [
    "#strong typing\n",
    "a=10\n",
    "b=\"hello\"\n",
    "print(a+b)\n",
    "## this will give error for unsupported operand types"
   ]
  },
  {
   "cell_type": "code",
   "execution_count": 42,
   "id": "3ce9d7f2-6197-4093-90d7-6410faf98f84",
   "metadata": {},
   "outputs": [
    {
     "name": "stdout",
     "output_type": "stream",
     "text": [
      "my name is ashutosh and last name is ashutosh\n"
     ]
    }
   ],
   "source": [
    "#custom formatig\n",
    "first_name = \"ashutosh\"\n",
    "last_name = \"ROut\"\n",
    "print(\"my name is {1} and last name is {1}\".format(last_name,first_name))"
   ]
  },
  {
   "cell_type": "code",
   "execution_count": null,
   "id": "fd48f631-83b6-4f9f-a9b3-67b0397a3f87",
   "metadata": {},
   "outputs": [],
   "source": []
  }
 ],
 "metadata": {
  "kernelspec": {
   "display_name": "Python [conda env:base] *",
   "language": "python",
   "name": "conda-base-py"
  },
  "language_info": {
   "codemirror_mode": {
    "name": "ipython",
    "version": 3
   },
   "file_extension": ".py",
   "mimetype": "text/x-python",
   "name": "python",
   "nbconvert_exporter": "python",
   "pygments_lexer": "ipython3",
   "version": "3.12.7"
  }
 },
 "nbformat": 4,
 "nbformat_minor": 5
}
