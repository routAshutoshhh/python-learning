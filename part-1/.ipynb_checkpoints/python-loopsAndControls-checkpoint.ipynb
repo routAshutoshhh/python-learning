{
 "cells": [
  {
   "cell_type": "markdown",
   "id": "d572b989-eb44-452b-89d5-4cd57a693667",
   "metadata": {},
   "source": [
    "###Tutorial - 3 python control  flows"
   ]
  },
  {
   "cell_type": "code",
   "execution_count": 4,
   "id": "6ca1e84d-7299-4358-afda-3277c9f9ac7d",
   "metadata": {},
   "outputs": [
    {
     "name": "stdin",
     "output_type": "stream",
     "text": [
      "enter a number 45\n"
     ]
    },
    {
     "name": "stdout",
     "output_type": "stream",
     "text": [
      "<class 'str'>\n",
      "<class 'int'>\n"
     ]
    }
   ],
   "source": [
    "#if statement\n",
    "value = input(\"enter a number\") #by  convention the input value willl be  in string so whatever the user will enter  even if a number it wwill be  astirng\n",
    "#so we need to typecast here\n",
    "value_int = int(value) # typecasted\n",
    "print(type(value))#type-str\n",
    "print(type(value_int))#type-int"
   ]
  },
  {
   "cell_type": "code",
   "execution_count": null,
   "id": "fca32a5c-ec86-4276-be8f-04f35a1672f7",
   "metadata": {},
   "outputs": [],
   "source": [
    "value_int = int(input(\"enter the number \"))\n",
    "if(value_int>100):\n",
    "    print(\"the value is greater than 100\")\n",
    "elif(value_int<50):\n",
    "    print(\"the value is less than 50\")\n",
    "else:\n",
    "    print(\" you are nothing\")"
   ]
  },
  {
   "cell_type": "code",
   "execution_count": null,
   "id": "5da79b5c-7118-4557-b18e-8e2b287ddb21",
   "metadata": {},
   "outputs": [],
   "source": []
  }
 ],
 "metadata": {
  "kernelspec": {
   "display_name": "Python [conda env:base] *",
   "language": "python",
   "name": "conda-base-py"
  },
  "language_info": {
   "codemirror_mode": {
    "name": "ipython",
    "version": 3
   },
   "file_extension": ".py",
   "mimetype": "text/x-python",
   "name": "python",
   "nbconvert_exporter": "python",
   "pygments_lexer": "ipython3",
   "version": "3.12.7"
  }
 },
 "nbformat": 4,
 "nbformat_minor": 5
}
