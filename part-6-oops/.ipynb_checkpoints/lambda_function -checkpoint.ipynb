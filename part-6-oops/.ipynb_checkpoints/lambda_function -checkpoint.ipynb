{
 "cells": [
  {
   "cell_type": "markdown",
   "id": "06c97e55-5f28-4d67-82f0-a7d7a4248545",
   "metadata": {},
   "source": [
    "# lambda function :\n",
    "\n",
    "in python , a lambda function (annonymous function ) is a small,anonymous function that can be defined in a single line of code without a name .\n",
    "<br>it is useful when we need a simple function that we don't want to define explicitly  using the def keyword \n",
    "\n",
    "## basic syntax :\n",
    "{\n",
    "<b>lambda arguments: \n",
    "    <br>expression\n",
    "}\n",
    "\n",
    "here arguments : input arguments for the function and <br>\n",
    "expression is a single expression that gets evaluated and returned as the result of the function .<br>\n",
    "The result of the   expression is automatically returned by the lambda function , so there is no need to use the return statement"
   ]
  },
  {
   "cell_type": "code",
   "execution_count": 16,
   "id": "4879c558-a10f-4d9d-b55f-3caf24ce1108",
   "metadata": {},
   "outputs": [
    {
     "data": {
      "text/plain": [
       "<function __main__.<lambda>(x, y)>"
      ]
     },
     "execution_count": 16,
     "metadata": {},
     "output_type": "execute_result"
    }
   ],
   "source": [
    "###basic example of lamda function \n",
    "f = lambda x , y : x+y\n",
    "f"
   ]
  },
  {
   "cell_type": "code",
   "execution_count": 20,
   "id": "ffa525c0-62c6-4743-a884-1d7132db7c57",
   "metadata": {},
   "outputs": [
    {
     "data": {
      "text/plain": [
       "11"
      ]
     },
     "execution_count": 20,
     "metadata": {},
     "output_type": "execute_result"
    }
   ],
   "source": [
    "f(5,6)"
   ]
  },
  {
   "cell_type": "code",
   "execution_count": 34,
   "id": "3fd4d15f-d461-41ae-b9f6-28099b7abfb4",
   "metadata": {},
   "outputs": [
    {
     "name": "stdout",
     "output_type": "stream",
     "text": [
      "[1, 4, 9, 16, 25]\n"
     ]
    }
   ],
   "source": [
    "#better example\n",
    "#converting a list of integers to their corresponding square values\n",
    "number = [1 ,2,3,4,5]\n",
    "square_n =  list(map(lambda x:x**2 ,number ))\n",
    "print(square_n)"
   ]
  },
  {
   "cell_type": "code",
   "execution_count": 40,
   "id": "9a808b89-bc19-4bbc-b2c7-c49a75beec07",
   "metadata": {},
   "outputs": [
    {
     "data": {
      "text/plain": [
       "['date', 'apple', 'mango', 'cherry']"
      ]
     },
     "execution_count": 40,
     "metadata": {},
     "output_type": "execute_result"
    }
   ],
   "source": [
    "#sort a list of strings based on their length and alphabetical character\n",
    "fruits = [\"apple\",\"mango\", \"cherry\",\"date\"]\n",
    "sorted (fruits ,key = lambda item :len(item)  )\n"
   ]
  },
  {
   "cell_type": "code",
   "execution_count": 42,
   "id": "2de862af-f06d-454c-b82e-944d28bfcb95",
   "metadata": {},
   "outputs": [],
   "source": [
    "#complex example :\n",
    "##sorting a list of dictionary  based on a specific key \n",
    "people = [\n",
    "    {\"name\": \"Aarav Sharma\", \"age\": 25, \"city\": \"Delhi\", \"hobby\": \"playing guitar\"},\n",
    "    {\"name\": \"Priya Mehta\", \"age\": 29, \"city\": \"Mumbai\", \"hobby\": \"photography\"},\n",
    "    {\"name\": \"Rohan Das\", \"age\": 32, \"city\": \"Bengaluru\", \"hobby\": \"cycling\"}\n",
    "]\n"
   ]
  },
  {
   "cell_type": "code",
   "execution_count": 46,
   "id": "f3d90709-db53-4dfe-afce-d726db523f92",
   "metadata": {},
   "outputs": [
    {
     "data": {
      "text/plain": [
       "[{'name': 'Aarav Sharma',\n",
       "  'age': 25,\n",
       "  'city': 'Delhi',\n",
       "  'hobby': 'playing guitar'},\n",
       " {'name': 'Priya Mehta', 'age': 29, 'city': 'Mumbai', 'hobby': 'photography'},\n",
       " {'name': 'Rohan Das', 'age': 32, 'city': 'Bengaluru', 'hobby': 'cycling'}]"
      ]
     },
     "execution_count": 46,
     "metadata": {},
     "output_type": "execute_result"
    }
   ],
   "source": [
    "sorted(people , key = lambda x: x[\"age\"])"
   ]
  },
  {
   "cell_type": "code",
   "execution_count": null,
   "id": "cec5b284-61f3-4e1c-bae1-94e9374c5d3e",
   "metadata": {},
   "outputs": [],
   "source": []
  }
 ],
 "metadata": {
  "kernelspec": {
   "display_name": "Python [conda env:base] *",
   "language": "python",
   "name": "conda-base-py"
  },
  "language_info": {
   "codemirror_mode": {
    "name": "ipython",
    "version": 3
   },
   "file_extension": ".py",
   "mimetype": "text/x-python",
   "name": "python",
   "nbconvert_exporter": "python",
   "pygments_lexer": "ipython3",
   "version": "3.12.7"
  }
 },
 "nbformat": 4,
 "nbformat_minor": 5
}
