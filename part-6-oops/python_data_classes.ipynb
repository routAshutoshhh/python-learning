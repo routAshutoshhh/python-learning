{
 "cells": [
  {
   "cell_type": "code",
   "execution_count": 1,
   "id": "6e29917b-6ecd-4f37-b0a4-8a4610b10551",
   "metadata": {},
   "outputs": [],
   "source": [
    "from dataclasses import dataclass"
   ]
  },
  {
   "cell_type": "code",
   "execution_count": 2,
   "id": "2c5f721e",
   "metadata": {},
   "outputs": [],
   "source": [
    "@dataclass\n",
    "class Rectangle:\n",
    "    width : int\n",
    "    height: int\n",
    "    color:str = \"white\"\n",
    "\n",
    "    def area(self) -> int:\n",
    "        return self.width * self.height"
   ]
  },
  {
   "cell_type": "code",
   "execution_count": 3,
   "id": "6c260699",
   "metadata": {},
   "outputs": [],
   "source": [
    "rect1 = Rectangle(5 , 5,\"blue\")"
   ]
  },
  {
   "cell_type": "code",
   "execution_count": 4,
   "id": "808927f8",
   "metadata": {},
   "outputs": [
    {
     "name": "stdout",
     "output_type": "stream",
     "text": [
      "25\n",
      "blue\n"
     ]
    }
   ],
   "source": [
    "print(rect1.area())\n",
    "print(rect1.color)"
   ]
  },
  {
   "cell_type": "code",
   "execution_count": 7,
   "id": "c171c581",
   "metadata": {},
   "outputs": [],
   "source": [
    "@dataclass(frozen = True)\n",
    "class Person:\n",
    "    name : str\n",
    "    age : int \n",
    "    hobby :str = \"reading\"\n",
    "    "
   ]
  },
  {
   "cell_type": "code",
   "execution_count": 8,
   "id": "7656f4e1",
   "metadata": {},
   "outputs": [],
   "source": [
    "per1 = Person(\"alice\" , 78 , \"having nuts\")"
   ]
  },
  {
   "cell_type": "code",
   "execution_count": null,
   "id": "8b999ddb",
   "metadata": {},
   "outputs": [
    {
     "ename": "FrozenInstanceError",
     "evalue": "cannot assign to field 'name'",
     "output_type": "error",
     "traceback": [
      "\u001b[1;31m---------------------------------------------------------------------------\u001b[0m",
      "\u001b[1;31mFrozenInstanceError\u001b[0m                       Traceback (most recent call last)",
      "Cell \u001b[1;32mIn[11], line 2\u001b[0m\n\u001b[0;32m      1\u001b[0m \u001b[38;5;66;03m#we cant change the values that we have not inserted for the per1 object \u001b[39;00m\n\u001b[1;32m----> 2\u001b[0m per1\u001b[38;5;241m.\u001b[39mname \u001b[38;5;241m=\u001b[39m \u001b[38;5;124m\"\u001b[39m\u001b[38;5;124mthor\u001b[39m\u001b[38;5;124m\"\u001b[39m\n",
      "File \u001b[1;32m<string>:4\u001b[0m, in \u001b[0;36m__setattr__\u001b[1;34m(self, name, value)\u001b[0m\n",
      "\u001b[1;31mFrozenInstanceError\u001b[0m: cannot assign to field 'name'"
     ]
    }
   ],
   "source": [
    "#we cant change the values that we have not inserted for the per1 object \n",
    "per1.name = \"thor\"\n",
    "'''\n",
    "error:\n",
    "File <string>:4, in __setattr__(self, name, value)\n",
    "\n",
    "FrozenInstanceError: cannot assign to field 'name'\n",
    "'''"
   ]
  },
  {
   "cell_type": "code",
   "execution_count": 22,
   "id": "fefa0752",
   "metadata": {},
   "outputs": [],
   "source": [
    "#inheritance here using the dataclass\n",
    "@dataclass\n",
    "class Schoool:\n",
    "    student_count : int\n",
    "    teacher_count : int \n",
    "    ground : bool\n",
    "\n",
    "\n",
    "@dataclass\n",
    "class Student(Schoool):\n",
    "    age : int \n",
    "    hobby :str = \"football\""
   ]
  },
  {
   "cell_type": "code",
   "execution_count": 23,
   "id": "36c781e4",
   "metadata": {},
   "outputs": [],
   "source": [
    "school1 = Schoool(500 , 33,True )\n",
    "student1 = Student(700,78,True,12 , \"baseball\")"
   ]
  },
  {
   "cell_type": "code",
   "execution_count": 26,
   "id": "b6481c33",
   "metadata": {},
   "outputs": [
    {
     "name": "stdout",
     "output_type": "stream",
     "text": [
      "700\n",
      "baseball\n",
      "500\n"
     ]
    }
   ],
   "source": [
    "print(student1.student_count)\n",
    "print(student1.hobby)\n",
    "print(school1.student_count)"
   ]
  },
  {
   "cell_type": "code",
   "execution_count": null,
   "id": "d534edfe",
   "metadata": {},
   "outputs": [],
   "source": []
  }
 ],
 "metadata": {
  "kernelspec": {
   "display_name": "base",
   "language": "python",
   "name": "python3"
  },
  "language_info": {
   "codemirror_mode": {
    "name": "ipython",
    "version": 3
   },
   "file_extension": ".py",
   "mimetype": "text/x-python",
   "name": "python",
   "nbconvert_exporter": "python",
   "pygments_lexer": "ipython3",
   "version": "3.12.7"
  }
 },
 "nbformat": 4,
 "nbformat_minor": 5
}
