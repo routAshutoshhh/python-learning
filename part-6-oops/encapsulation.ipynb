{
 "cells": [
  {
   "cell_type": "markdown",
   "id": "16839663",
   "metadata": {},
   "source": [
    "##Encapsulation in the python \n",
    "encapsulation is a fundamental principle in oop that focuses on bundling data and the methods tthat operate on that data into a single unit called class . it allows you to control the access and visibility of the data and methods , providiing a way to protect and organize your code\n"
   ]
  },
  {
   "cell_type": "code",
   "execution_count": 1,
   "id": "aa09d0b6",
   "metadata": {},
   "outputs": [],
   "source": [
    "## using access modifiers - we encapsulate data\n",
    "\n",
    "#private \n",
    "class Person:\n",
    "    def __init__(self , age , name ):\n",
    "        self.__age = age  #private variable\n",
    "        self.__name  = name  #private variable\n",
    "\n",
    "    def get_age(self):\n",
    "        return self.__age\n",
    "    \n",
    "    def get_name(self):\n",
    "        return self.__name\n"
   ]
  },
  {
   "cell_type": "code",
   "execution_count": 2,
   "id": "25b9689c",
   "metadata": {},
   "outputs": [
    {
     "data": {
      "text/plain": [
       "['__class__',\n",
       " '__delattr__',\n",
       " '__dict__',\n",
       " '__dir__',\n",
       " '__doc__',\n",
       " '__eq__',\n",
       " '__format__',\n",
       " '__ge__',\n",
       " '__getattribute__',\n",
       " '__getstate__',\n",
       " '__gt__',\n",
       " '__hash__',\n",
       " '__init__',\n",
       " '__init_subclass__',\n",
       " '__le__',\n",
       " '__lt__',\n",
       " '__module__',\n",
       " '__ne__',\n",
       " '__new__',\n",
       " '__reduce__',\n",
       " '__reduce_ex__',\n",
       " '__repr__',\n",
       " '__setattr__',\n",
       " '__sizeof__',\n",
       " '__str__',\n",
       " '__subclasshook__',\n",
       " '__weakref__',\n",
       " 'get_age',\n",
       " 'get_name']"
      ]
     },
     "execution_count": 2,
     "metadata": {},
     "output_type": "execute_result"
    }
   ],
   "source": [
    "dir(Person)"
   ]
  },
  {
   "cell_type": "code",
   "execution_count": null,
   "id": "5becbf0f",
   "metadata": {},
   "outputs": [],
   "source": []
  },
  {
   "cell_type": "code",
   "execution_count": null,
   "id": "07589dad",
   "metadata": {},
   "outputs": [
    {
     "name": "stdout",
     "output_type": "stream",
     "text": [
      "20\n",
      "40\n",
      "20\n"
     ]
    }
   ],
   "source": [
    "#lets create an object and try accesssing it \n",
    "person  = Person(20 , \"kiran\")\n",
    "\n",
    "#not-working \n",
    "#print(person.age)\n",
    "\n",
    "#working  method - but  this is not the right way - its wrong to access the private varibale this way\n",
    "prev = person._Person__age\n",
    "print(prev)\n",
    "# we can update using this method\n",
    "after = person.__Person__age = 40\n",
    "print(after)\n",
    "\n",
    "\n",
    "#rigth way of accesssing]\n",
    "\n",
    "##accessing using this \n",
    "value_access = person.get_age()\n",
    "print(value_access)"
   ]
  },
  {
   "cell_type": "code",
   "execution_count": null,
   "id": "ca637893",
   "metadata": {},
   "outputs": [],
   "source": []
  }
 ],
 "metadata": {
  "kernelspec": {
   "display_name": "base",
   "language": "python",
   "name": "python3"
  },
  "language_info": {
   "codemirror_mode": {
    "name": "ipython",
    "version": 3
   },
   "file_extension": ".py",
   "mimetype": "text/x-python",
   "name": "python",
   "nbconvert_exporter": "python",
   "pygments_lexer": "ipython3",
   "version": "3.12.7"
  }
 },
 "nbformat": 4,
 "nbformat_minor": 5
}
