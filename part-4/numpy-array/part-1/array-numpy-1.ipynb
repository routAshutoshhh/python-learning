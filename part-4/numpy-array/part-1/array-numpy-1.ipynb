{
 "cells": [
  {
   "cell_type": "markdown",
   "id": "b5daca99-02c0-47c9-b102-8eea756b9675",
   "metadata": {},
   "source": [
    "what is an array in python and how do we use it\n",
    "ans : an array in python= numpy which stores values of same data type . In python , this is the main difference between array and lists - while python \n",
    "lists can contain values   corresponding to different data types , arrays in  python can only contain values corresponding to same data type \n"
   ]
  },
  {
   "cell_type": "code",
   "execution_count": 8,
   "id": "e2ea835e-8c2a-4399-8147-bba9fa08ba21",
   "metadata": {},
   "outputs": [
    {
     "data": {
      "text/plain": [
       "numpy.ndarray"
      ]
     },
     "execution_count": 8,
     "metadata": {},
     "output_type": "execute_result"
    }
   ],
   "source": [
    "##importing the library first to use that\n",
    "import numpy as np \n",
    "##creating an array from list \n",
    "listt = [1  , 2 ,3 , 4]\n",
    "#converting into an array \n",
    "arr = np.array(listt)\n",
    "type(arr)\n"
   ]
  },
  {
   "cell_type": "code",
   "execution_count": 18,
   "id": "e1f1afe4-fbbb-4d31-80c1-7c2ee2d89806",
   "metadata": {},
   "outputs": [
    {
     "name": "stdout",
     "output_type": "stream",
     "text": [
      "[[1 2 3 4]\n",
      " [5 6 7 8]\n",
      " [2 3 4 5]]\n",
      "the row and coloumn of the array are respectively:  (3, 4)\n"
     ]
    }
   ],
   "source": [
    "#building an 2D array\n",
    "\n",
    "print(arr2)\n",
    "print(\"the row and coloumn of the array are respectively: \", arr2.shape)"
   ]
  },
  {
   "cell_type": "code",
   "execution_count": 28,
   "id": "60b2ad97-aec2-4899-9149-3f8c49a79b66",
   "metadata": {},
   "outputs": [
    {
     "ename": "TypeError",
     "evalue": "array() takes from 1 to 2 positional arguments but 3 were given",
     "output_type": "error",
     "traceback": [
      "\u001b[1;31m---------------------------------------------------------------------------\u001b[0m",
      "\u001b[1;31mTypeError\u001b[0m                                 Traceback (most recent call last)",
      "Cell \u001b[1;32mIn[28], line 5\u001b[0m\n\u001b[0;32m      3\u001b[0m lst2 \u001b[38;5;241m=\u001b[39m [\u001b[38;5;241m2\u001b[39m, \u001b[38;5;241m3\u001b[39m, \u001b[38;5;241m4\u001b[39m, \u001b[38;5;241m5\u001b[39m]\n\u001b[0;32m      4\u001b[0m lst3 \u001b[38;5;241m=\u001b[39m [\u001b[38;5;241m5\u001b[39m, \u001b[38;5;241m6\u001b[39m , \u001b[38;5;241m7\u001b[39m ,\u001b[38;5;241m7\u001b[39m , \u001b[38;5;241m8\u001b[39m]\n\u001b[1;32m----> 5\u001b[0m arrImplementation \u001b[38;5;241m=\u001b[39m np\u001b[38;5;241m.\u001b[39marray(lst1 , lst2, lst3)\n",
      "\u001b[1;31mTypeError\u001b[0m: array() takes from 1 to 2 positional arguments but 3 were given"
     ]
    }
   ],
   "source": [
    "#testing with row and coloumn\n",
    "lst1 = [1 , 2, 3]\n",
    "lst2 = [2, 3, 4, 5]\n",
    "lst3 = [5, 6 , 7 ,7 , 8]\n",
    "arrImplementation = np.array(lst1 , lst2, lst3)# this will give out errors"
   ]
  },
  {
   "cell_type": "code",
   "execution_count": 46,
   "id": "77a040aa-e619-4396-b895-26eeeba14696",
   "metadata": {},
   "outputs": [
    {
     "name": "stdout",
     "output_type": "stream",
     "text": [
      "[ 1  2 23  5]\n"
     ]
    },
    {
     "data": {
      "text/plain": [
       "array([ 1,  2, 23])"
      ]
     },
     "execution_count": 46,
     "metadata": {},
     "output_type": "execute_result"
    }
   ],
   "source": [
    "#indexing an array to retrieve an element from the array\n",
    "\n",
    "arr12 = np.array([1, 2, 23, 5])\n",
    "print(arr12)\n",
    "arr12[3] #this wil print the index\n",
    "arr12[0:3] #will take index 0 ,1 ,2"
   ]
  },
  {
   "cell_type": "code",
   "execution_count": 60,
   "id": "700aed7a-0a4d-48da-9141-62fae8c08c0a",
   "metadata": {},
   "outputs": [
    {
     "name": "stdout",
     "output_type": "stream",
     "text": [
      "[56 45  3  1]\n"
     ]
    },
    {
     "data": {
      "text/plain": [
       "array([56, 45,  3])"
      ]
     },
     "execution_count": 60,
     "metadata": {},
     "output_type": "execute_result"
    }
   ],
   "source": [
    "#reversin g the elements in the array\n",
    "lst = [1,3,45,56]\n",
    "arrr= np.array(lst[::-1])\n",
    "print(arrr)\n",
    "arrr[:-1]"
   ]
  },
  {
   "cell_type": "code",
   "execution_count": 83,
   "id": "10f06e28-e2da-4d06-aeb7-5c0cd35a9795",
   "metadata": {},
   "outputs": [
    {
     "name": "stdout",
     "output_type": "stream",
     "text": [
      "[[1 2 3 4]\n",
      " [5 6 7 8]\n",
      " [2 3 4 5]]\n"
     ]
    },
    {
     "data": {
      "text/plain": [
       "array([2, 6, 3])"
      ]
     },
     "execution_count": 83,
     "metadata": {},
     "output_type": "execute_result"
    }
   ],
   "source": [
    "#indexing in 2D array\n",
    "#creating a 2D array first \n",
    "lst1 = [ 1, 2, 3, 4]\n",
    "lst2 = [2 , 3, 4, 5]\n",
    "lst3 = [5, 6, 7, 8]\n",
    "\n",
    "#making a nested list \n",
    "arr2 = np.array([lst1 , lst3 , lst2])\n",
    "print(arr2)\n",
    "#indexing in the arr2\n",
    "arr2[:,1] #this should print : = all the rous selected and 1 = coloumn 1 should be selected \n"
   ]
  },
  {
   "cell_type": "code",
   "execution_count": 102,
   "id": "1f681f8d-4e2a-4773-8963-2faccbac77c3",
   "metadata": {},
   "outputs": [
    {
     "name": "stdout",
     "output_type": "stream",
     "text": [
      "[[6 7]\n",
      " [3 4]]\n",
      "the output  would be printed like this \n"
     ]
    },
    {
     "data": {
      "text/plain": [
       "array([[3, 4],\n",
       "       [7, 8],\n",
       "       [4, 5]])"
      ]
     },
     "execution_count": 102,
     "metadata": {},
     "output_type": "execute_result"
    }
   ],
   "source": [
    "#printting lets say from the arr2  using indexing\n",
    "#goal to print\n",
    "'''\n",
    "([6 ,7]\n",
    "[3,4])\n",
    "'''\n",
    "print(arr2[1: , 1:3]) \n",
    "\n",
    "'''\n",
    "trying to print\n",
    "([3,4]\n",
    "[7,8]\n",
    "[4.5])\n",
    "'''\n",
    "print(\"the output  would be printed like this \")\n",
    "arr2[: , 2:] #meaning is since before \",\" is row so in the row gap we have added \":\" means all the rows and in the coloumn we have \"2:\" means from the 2nd index to the ast coloumn index "
   ]
  },
  {
   "cell_type": "code",
   "execution_count": 113,
   "id": "76910f75-166f-4028-b344-c8ad64f14239",
   "metadata": {},
   "outputs": [
    {
     "name": "stdout",
     "output_type": "stream",
     "text": [
      "[[1 2 3]\n",
      " [4 5 6]\n",
      " [7 8 2]\n",
      " [3 4 5]]\n"
     ]
    }
   ],
   "source": [
    "#in 2D array we can do the  broadcasting very well lets look into that for a bit\n",
    "#lets make an array 2D first\n",
    "'''\n",
    "we have the arr2 with the 4 coloumns and 3 rows\n",
    "[[1 2 3 4]\n",
    " [5 6 7 8]\n",
    " [2 3 4 5]]\n",
    " its (3 , 4)\n",
    "\n",
    "  its a 12 matrix array \n",
    "'''\n",
    "\n",
    "##lets reshape it first \n",
    "arr2Reshaped = arr2.reshape(4,3)\n",
    "print(arr2Reshaped)#just reversed the rows and coloumns"
   ]
  },
  {
   "cell_type": "code",
   "execution_count": 123,
   "id": "2e6811c8-1575-40f3-981a-0b0d9caacd10",
   "metadata": {},
   "outputs": [
    {
     "name": "stdout",
     "output_type": "stream",
     "text": [
      "[2 4 6 8]\n",
      "[[ 2  4  6  8]\n",
      " [10 12 14 16]\n",
      " [ 4  6  8 10]]\n",
      "[[ 1  4  9 16]\n",
      " [25 36 49 64]\n",
      " [ 4  9 16 25]]\n"
     ]
    }
   ],
   "source": [
    "'''\n",
    "multipleying an array \n",
    "'''\n",
    "\n",
    "print(arr*2)\n",
    "print(arr2*2)\n",
    "print(arr2*arr2)"
   ]
  },
  {
   "cell_type": "code",
   "execution_count": 129,
   "id": "75a434cd-0d0a-41db-9fce-f06afbb6be87",
   "metadata": {},
   "outputs": [
    {
     "data": {
      "text/plain": [
       "array([[1., 1., 1.],\n",
       "       [1., 1., 1.],\n",
       "       [1., 1., 1.],\n",
       "       [1., 1., 1.],\n",
       "       [1., 1., 1.]])"
      ]
     },
     "execution_count": 129,
     "metadata": {},
     "output_type": "execute_result"
    }
   ],
   "source": [
    "#ones method return an array with only ones\n",
    "np.ones((5,3))"
   ]
  },
  {
   "cell_type": "code",
   "execution_count": 131,
   "id": "1e944121-7d75-4aa3-8da7-c0fe85123833",
   "metadata": {},
   "outputs": [
    {
     "data": {
      "text/plain": [
       "array([[0., 0., 0.],\n",
       "       [0., 0., 0.],\n",
       "       [0., 0., 0.],\n",
       "       [0., 0., 0.],\n",
       "       [0., 0., 0.]])"
      ]
     },
     "execution_count": 131,
     "metadata": {},
     "output_type": "execute_result"
    }
   ],
   "source": [
    "np.zeros((5,3))"
   ]
  },
  {
   "cell_type": "code",
   "execution_count": 155,
   "id": "43fd19b3-1078-498f-8378-565baddcdc85",
   "metadata": {},
   "outputs": [
    {
     "data": {
      "text/plain": [
       "array([[665, 506],\n",
       "       [138, 696]])"
      ]
     },
     "execution_count": 155,
     "metadata": {},
     "output_type": "execute_result"
    }
   ],
   "source": [
    "#randint does generate a array wuith randowm value when provided wit h only the high and low values\n",
    "np.random.randint(12 , 809,4).reshape(2,2) # (low value , high value ,, no of elements generated) then shaping it 2*2 = size  or the no of elemennts genrated"
   ]
  },
  {
   "cell_type": "code",
   "execution_count": 153,
   "id": "e5e972d8-2402-44cf-b0e9-99ed1260df3f",
   "metadata": {},
   "outputs": [
    {
     "data": {
      "text/plain": [
       "array([[-0.24409632,  0.78429473, -1.48639299,  1.28865677, -0.15251666,\n",
       "         0.0554551 ],\n",
       "       [ 1.30168323, -1.05438292, -1.66483036, -1.44485832, -0.84896752,\n",
       "         0.88626784],\n",
       "       [-0.20912544,  0.60124027, -1.27883251,  0.30051868, -0.17986533,\n",
       "         0.39312739],\n",
       "       [ 0.62235935,  0.45884198, -1.10387166,  0.43203495, -0.89460789,\n",
       "         1.96149171],\n",
       "       [ 0.10125599,  0.06860199,  0.94546545, -0.92549926, -0.25802948,\n",
       "        -1.11181068]])"
      ]
     },
     "execution_count": 153,
     "metadata": {},
     "output_type": "execute_result"
    }
   ],
   "source": [
    "#generating from standard normal distribution\n",
    "np.random.randn(5,6)"
   ]
  }
 ],
 "metadata": {
  "kernelspec": {
   "display_name": "Python [conda env:base] *",
   "language": "python",
   "name": "conda-base-py"
  },
  "language_info": {
   "codemirror_mode": {
    "name": "ipython",
    "version": 3
   },
   "file_extension": ".py",
   "mimetype": "text/x-python",
   "name": "python",
   "nbconvert_exporter": "python",
   "pygments_lexer": "ipython3",
   "version": "3.12.7"
  }
 },
 "nbformat": 4,
 "nbformat_minor": 5
}
